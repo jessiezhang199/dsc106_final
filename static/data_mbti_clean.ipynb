{
 "cells": [
  {
   "cell_type": "code",
   "execution_count": 129,
   "id": "83aa0fc2",
   "metadata": {},
   "outputs": [],
   "source": [
    "import numpy as np\n",
    "import pandas as pd"
   ]
  },
  {
   "cell_type": "code",
   "execution_count": 130,
   "id": "28d46cb3",
   "metadata": {},
   "outputs": [],
   "source": [
    "df = pd.read_csv('countries.csv')"
   ]
  },
  {
   "cell_type": "code",
   "execution_count": 131,
   "id": "8ac92319",
   "metadata": {},
   "outputs": [
    {
     "data": {
      "text/plain": [
       "Index(['Country', 'ESTJ-A', 'ESFJ-A', 'INFP-T', 'ESFJ-T', 'ENFP-T', 'ENFP-A',\n",
       "       'ESTJ-T', 'ISFJ-T', 'ENFJ-A', 'ESTP-A', 'ISTJ-A', 'INTP-T', 'INFJ-T',\n",
       "       'ISFP-T', 'ENTJ-A', 'ESTP-T', 'ISTJ-T', 'ESFP-T', 'ENTP-A', 'ESFP-A',\n",
       "       'INTJ-T', 'ISFJ-A', 'INTP-A', 'ENTP-T', 'ISTP-T', 'ENTJ-T', 'ISTP-A',\n",
       "       'INFP-A', 'ENFJ-T', 'INTJ-A', 'ISFP-A', 'INFJ-A'],\n",
       "      dtype='object')"
      ]
     },
     "execution_count": 131,
     "metadata": {},
     "output_type": "execute_result"
    }
   ],
   "source": [
    "columns = df.columns\n",
    "columns"
   ]
  },
  {
   "cell_type": "code",
   "execution_count": 132,
   "id": "0c691daa",
   "metadata": {},
   "outputs": [],
   "source": [
    "#get the combine mbti types\n",
    "mbti_types = sorted(set(col.split('-')[0] for col in df.columns if '-' in col))"
   ]
  },
  {
   "cell_type": "code",
   "execution_count": 133,
   "id": "d9f356b6",
   "metadata": {},
   "outputs": [],
   "source": [
    "combined_data = pd.DataFrame(columns=['Country'] + mbti_types)"
   ]
  },
  {
   "cell_type": "code",
   "execution_count": 134,
   "id": "9319d3bb",
   "metadata": {},
   "outputs": [],
   "source": [
    "combined_data['Country'] = df['Country']\n",
    "for mbti_type in mbti_types:\n",
    "    combined_data[mbti_type] = df.filter(regex=f'^{mbti_type}-').sum(axis=1)"
   ]
  },
  {
   "cell_type": "code",
   "execution_count": 135,
   "id": "f06ca919",
   "metadata": {},
   "outputs": [],
   "source": [
    "max_mbti_per_country = combined_data.groupby('Country').idxmax(axis=1)\n",
    "prop_max_per_country = combined_data.drop(columns='Country').max(axis=1)"
   ]
  },
  {
   "cell_type": "code",
   "execution_count": 140,
   "id": "d453243d",
   "metadata": {},
   "outputs": [],
   "source": [
    "result = max_mbti_per_country.reset_index().drop(columns='level_1')\n",
    "result['Proportion'] = prop_max_per_country.apply(lambda x: \"{:.4f}\".format(x))\n",
    "result.rename(columns={0: 'MBTI_type'}, inplace=True)\n",
    "result['Percentage'] = (result['Proportion'].astype(float) * 100).apply(lambda x: \"{:.2f}%\".format(x))"
   ]
  },
  {
   "cell_type": "code",
   "execution_count": 141,
   "id": "0218eabf",
   "metadata": {},
   "outputs": [
    {
     "data": {
      "text/html": [
       "<div>\n",
       "<style scoped>\n",
       "    .dataframe tbody tr th:only-of-type {\n",
       "        vertical-align: middle;\n",
       "    }\n",
       "\n",
       "    .dataframe tbody tr th {\n",
       "        vertical-align: top;\n",
       "    }\n",
       "\n",
       "    .dataframe thead th {\n",
       "        text-align: right;\n",
       "    }\n",
       "</style>\n",
       "<table border=\"1\" class=\"dataframe\">\n",
       "  <thead>\n",
       "    <tr style=\"text-align: right;\">\n",
       "      <th></th>\n",
       "      <th>Country</th>\n",
       "      <th>MBTI_type</th>\n",
       "      <th>Proportion</th>\n",
       "      <th>Percentage</th>\n",
       "    </tr>\n",
       "  </thead>\n",
       "  <tbody>\n",
       "    <tr>\n",
       "      <th>0</th>\n",
       "      <td>Afghanistan</td>\n",
       "      <td>ESTJ</td>\n",
       "      <td>0.1188</td>\n",
       "      <td>11.88%</td>\n",
       "    </tr>\n",
       "    <tr>\n",
       "      <th>1</th>\n",
       "      <td>Albania</td>\n",
       "      <td>ENFP</td>\n",
       "      <td>0.1045</td>\n",
       "      <td>10.45%</td>\n",
       "    </tr>\n",
       "    <tr>\n",
       "      <th>2</th>\n",
       "      <td>Algeria</td>\n",
       "      <td>INFP</td>\n",
       "      <td>0.1556</td>\n",
       "      <td>15.56%</td>\n",
       "    </tr>\n",
       "    <tr>\n",
       "      <th>3</th>\n",
       "      <td>Andorra</td>\n",
       "      <td>ENFP</td>\n",
       "      <td>0.1767</td>\n",
       "      <td>17.67%</td>\n",
       "    </tr>\n",
       "    <tr>\n",
       "      <th>4</th>\n",
       "      <td>Angola</td>\n",
       "      <td>ESFJ</td>\n",
       "      <td>0.1192</td>\n",
       "      <td>11.92%</td>\n",
       "    </tr>\n",
       "    <tr>\n",
       "      <th>...</th>\n",
       "      <td>...</td>\n",
       "      <td>...</td>\n",
       "      <td>...</td>\n",
       "      <td>...</td>\n",
       "    </tr>\n",
       "    <tr>\n",
       "      <th>153</th>\n",
       "      <td>Vanuatu</td>\n",
       "      <td>ENFP</td>\n",
       "      <td>0.1297</td>\n",
       "      <td>12.97%</td>\n",
       "    </tr>\n",
       "    <tr>\n",
       "      <th>154</th>\n",
       "      <td>Vietnam</td>\n",
       "      <td>INFP</td>\n",
       "      <td>0.1447</td>\n",
       "      <td>14.47%</td>\n",
       "    </tr>\n",
       "    <tr>\n",
       "      <th>155</th>\n",
       "      <td>Yemen</td>\n",
       "      <td>ENFP</td>\n",
       "      <td>0.1188</td>\n",
       "      <td>11.88%</td>\n",
       "    </tr>\n",
       "    <tr>\n",
       "      <th>156</th>\n",
       "      <td>Zambia</td>\n",
       "      <td>ESFJ</td>\n",
       "      <td>0.1253</td>\n",
       "      <td>12.53%</td>\n",
       "    </tr>\n",
       "    <tr>\n",
       "      <th>157</th>\n",
       "      <td>Zimbabwe</td>\n",
       "      <td>ENFP</td>\n",
       "      <td>0.1134</td>\n",
       "      <td>11.34%</td>\n",
       "    </tr>\n",
       "  </tbody>\n",
       "</table>\n",
       "<p>158 rows × 4 columns</p>\n",
       "</div>"
      ],
      "text/plain": [
       "         Country MBTI_type Proportion Percentage\n",
       "0    Afghanistan      ESTJ     0.1188     11.88%\n",
       "1        Albania      ENFP     0.1045     10.45%\n",
       "2        Algeria      INFP     0.1556     15.56%\n",
       "3        Andorra      ENFP     0.1767     17.67%\n",
       "4         Angola      ESFJ     0.1192     11.92%\n",
       "..           ...       ...        ...        ...\n",
       "153      Vanuatu      ENFP     0.1297     12.97%\n",
       "154      Vietnam      INFP     0.1447     14.47%\n",
       "155        Yemen      ENFP     0.1188     11.88%\n",
       "156       Zambia      ESFJ     0.1253     12.53%\n",
       "157     Zimbabwe      ENFP     0.1134     11.34%\n",
       "\n",
       "[158 rows x 4 columns]"
      ]
     },
     "execution_count": 141,
     "metadata": {},
     "output_type": "execute_result"
    }
   ],
   "source": [
    "result"
   ]
  },
  {
   "cell_type": "code",
   "execution_count": 142,
   "id": "4a0df879",
   "metadata": {},
   "outputs": [],
   "source": [
    "result.to_csv('mbti_clean.csv', header=True, index=False)"
   ]
  }
 ],
 "metadata": {
  "kernelspec": {
   "display_name": "Python 3 (ipykernel)",
   "language": "python",
   "name": "python3"
  },
  "language_info": {
   "codemirror_mode": {
    "name": "ipython",
    "version": 3
   },
   "file_extension": ".py",
   "mimetype": "text/x-python",
   "name": "python",
   "nbconvert_exporter": "python",
   "pygments_lexer": "ipython3",
   "version": "3.9.5"
  }
 },
 "nbformat": 4,
 "nbformat_minor": 5
}
